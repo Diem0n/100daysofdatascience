{
 "cells": [
  {
   "cell_type": "markdown",
   "metadata": {},
   "source": [
    "### Example: O’Reilly Books About Data\n",
    "A potential investor in DataSciencester thinks data is just a fad. To prove him wrong, you\n",
    "decide to examine how many data books O’Reilly has published over time. After digging\n",
    "through its website, you find that it has many pages of data books (and videos), reachable\n",
    "through 30-items-at-a-time directory pages with URLs like:\n",
    "```\n",
    "http://shop.oreilly.com/category/browse-subjects/data.do?\n",
    "sortby=publicationDate&page=1\n",
    "```\n",
    "\n",
    "Unless you want to be a jerk (and unless you want your scraper to get banned), whenever\n",
    "you want to scrape data from a website you should first check to see if it has some sort of\n",
    "access policy. Looking at:\n",
    "```\n",
    "http://oreilly.com/terms/\n",
    "```\n",
    "\n",
    "there seems to be nothing prohibiting this project. In order to be good citizens, we should\n",
    "also check for a robots.txt file that tells webcrawlers how to behave. The important lines in\n",
    "```\n",
    "http://shop.oreilly.com/robots.txt are:\n",
    "Crawl-delay: 30\n",
    "Request-rate: 1/30\n",
    "```\n",
    "The first tells us that we should wait 30 seconds between requests, the second that we\n",
    "should request only one page every 30 seconds. So basically they’re two different ways of\n",
    "saying the same thing. (There are other lines that indicate directories not to scrape, but\n",
    "they don’t include our URL, so we’re OK there.)\n",
    "\n",
    "`NOTE`\n",
    "\n",
    "There’s always the possibility that O’Reilly will at some point revamp its website and break all the logic in\n",
    "this section. I will do what I can to prevent that, of course, but I don’t have a ton of influence over there.\n",
    "Although, if every one of you were to convince everyone you know to buy a copy of this book…\n",
    "To figure out how to extract the data, let’s download one of those pages and feed it to\n",
    "Beautiful Soup:"
   ]
  },
  {
   "cell_type": "code",
   "execution_count": 1,
   "metadata": {},
   "outputs": [
    {
     "name": "stdout",
     "output_type": "stream",
     "text": [
      "Requirement already satisfied: pyppeteer in c:\\users\\talha\\anaconda3\\lib\\site-packages (2.0.0)\n",
      "Requirement already satisfied: nest_asyncio in c:\\users\\talha\\anaconda3\\lib\\site-packages (1.5.6)\n",
      "Requirement already satisfied: appdirs<2.0.0,>=1.4.3 in c:\\users\\talha\\anaconda3\\lib\\site-packages (from pyppeteer) (1.4.4)\n",
      "Requirement already satisfied: certifi>=2023 in c:\\users\\talha\\anaconda3\\lib\\site-packages (from pyppeteer) (2024.2.2)\n",
      "Requirement already satisfied: importlib-metadata>=1.4 in c:\\users\\talha\\anaconda3\\lib\\site-packages (from pyppeteer) (6.0.0)\n",
      "Requirement already satisfied: pyee<12.0.0,>=11.0.0 in c:\\users\\talha\\anaconda3\\lib\\site-packages (from pyppeteer) (11.1.0)\n",
      "Requirement already satisfied: tqdm<5.0.0,>=4.42.1 in c:\\users\\talha\\anaconda3\\lib\\site-packages (from pyppeteer) (4.65.0)\n",
      "Requirement already satisfied: urllib3<2.0.0,>=1.25.8 in c:\\users\\talha\\anaconda3\\lib\\site-packages (from pyppeteer) (1.26.16)\n",
      "Requirement already satisfied: websockets<11.0,>=10.0 in c:\\users\\talha\\anaconda3\\lib\\site-packages (from pyppeteer) (10.4)\n",
      "Requirement already satisfied: zipp>=0.5 in c:\\users\\talha\\anaconda3\\lib\\site-packages (from importlib-metadata>=1.4->pyppeteer) (3.11.0)\n",
      "Requirement already satisfied: typing-extensions in c:\\users\\talha\\anaconda3\\lib\\site-packages (from pyee<12.0.0,>=11.0.0->pyppeteer) (4.12.2)\n",
      "Requirement already satisfied: colorama in c:\\users\\talha\\anaconda3\\lib\\site-packages (from tqdm<5.0.0,>=4.42.1->pyppeteer) (0.4.6)\n"
     ]
    }
   ],
   "source": [
    "!pip install pyppeteer nest_asyncio\n",
    "\n"
   ]
  },
  {
   "cell_type": "code",
   "execution_count": 1,
   "metadata": {},
   "outputs": [
    {
     "name": "stdout",
     "output_type": "stream",
     "text": [
      "Fetching for https://www.oreilly.com/search/?q=data&type=*&rows=100&page=4\n",
      "Fetching for https://www.oreilly.com/search/?q=data&type=*&rows=100&page=2\n",
      "Fetching for https://www.oreilly.com/search/?q=data&type=*&rows=100&page=3\n",
      "Fetching for https://www.oreilly.com/search/?q=data&type=*&rows=100&page=1\n",
      "Fetching for https://www.oreilly.com/search/?q=data&type=*&rows=100&page=5\n",
      "Fetching for https://www.oreilly.com/search/?q=data&type=*&rows=100&page=6\n",
      "Fetching for https://www.oreilly.com/search/?q=data&type=*&rows=100&page=8\n",
      "Fetching for https://www.oreilly.com/search/?q=data&type=*&rows=100&page=7\n",
      "Fetching for https://www.oreilly.com/search/?q=data&type=*&rows=100&page=9\n",
      "Fetching for https://www.oreilly.com/search/?q=data&type=*&rows=100&page=10\n",
      "Fetching for https://www.oreilly.com/search/?q=data&type=*&rows=100&page=11\n",
      "Fetching for https://www.oreilly.com/search/?q=data&type=*&rows=100&page=14\n",
      "Fetching for https://www.oreilly.com/search/?q=data&type=*&rows=100&page=12\n",
      "Fetching for https://www.oreilly.com/search/?q=data&type=*&rows=100&page=13\n",
      "Fetching for https://www.oreilly.com/search/?q=data&type=*&rows=100&page=15\n",
      "Error fetching https://www.oreilly.com/search/?q=data&type=*&rows=100&page=13: Message: \n",
      "Stacktrace:\n",
      "\tGetHandleVerifier [0x00007FF74092EEA2+31554]\n",
      "\t(No symbol) [0x00007FF7408A7ED9]\n",
      "\t(No symbol) [0x00007FF74076872A]\n",
      "\t(No symbol) [0x00007FF7407B8434]\n",
      "\t(No symbol) [0x00007FF7407B853C]\n",
      "\t(No symbol) [0x00007FF7407FF6A7]\n",
      "\t(No symbol) [0x00007FF7407DD06F]\n",
      "\t(No symbol) [0x00007FF7407FC977]\n",
      "\t(No symbol) [0x00007FF7407DCDD3]\n",
      "\t(No symbol) [0x00007FF7407AA33B]\n",
      "\t(No symbol) [0x00007FF7407AAED1]\n",
      "\tGetHandleVerifier [0x00007FF740C38B1D+3217341]\n",
      "\tGetHandleVerifier [0x00007FF740C85AE3+3532675]\n",
      "\tGetHandleVerifier [0x00007FF740C7B0E0+3489152]\n",
      "\tGetHandleVerifier [0x00007FF7409DE776+750614]\n",
      "\t(No symbol) [0x00007FF7408B375F]\n",
      "\t(No symbol) [0x00007FF7408AEB14]\n",
      "\t(No symbol) [0x00007FF7408AECA2]\n",
      "\t(No symbol) [0x00007FF74089E16F]\n",
      "\tBaseThreadInitThunk [0x00007FFE2CCC7344+20]\n",
      "\tRtlUserThreadStart [0x00007FFE2EAFCC91+33]\n",
      "\n",
      "Fetching for https://www.oreilly.com/search/?q=data&type=*&rows=100&page=16\n",
      "Fetching for https://www.oreilly.com/search/?q=data&type=*&rows=100&page=20\n",
      "Fetching for https://www.oreilly.com/search/?q=data&type=*&rows=100&page=18\n",
      "Fetching for https://www.oreilly.com/search/?q=data&type=*&rows=100&page=19\n",
      "Fetching for https://www.oreilly.com/search/?q=data&type=*&rows=100&page=17\n",
      "Error fetching https://www.oreilly.com/search/?q=data&type=*&rows=100&page=19: Message: \n",
      "Stacktrace:\n",
      "\tGetHandleVerifier [0x00007FF74092EEA2+31554]\n",
      "\t(No symbol) [0x00007FF7408A7ED9]\n",
      "\t(No symbol) [0x00007FF74076872A]\n",
      "\t(No symbol) [0x00007FF7407B8434]\n",
      "\t(No symbol) [0x00007FF7407B853C]\n",
      "\t(No symbol) [0x00007FF7407FF6A7]\n",
      "\t(No symbol) [0x00007FF7407DD06F]\n",
      "\t(No symbol) [0x00007FF7407FC977]\n",
      "\t(No symbol) [0x00007FF7407DCDD3]\n",
      "\t(No symbol) [0x00007FF7407AA33B]\n",
      "\t(No symbol) [0x00007FF7407AAED1]\n",
      "\tGetHandleVerifier [0x00007FF740C38B1D+3217341]\n",
      "\tGetHandleVerifier [0x00007FF740C85AE3+3532675]\n",
      "\tGetHandleVerifier [0x00007FF740C7B0E0+3489152]\n",
      "\tGetHandleVerifier [0x00007FF7409DE776+750614]\n",
      "\t(No symbol) [0x00007FF7408B375F]\n",
      "\t(No symbol) [0x00007FF7408AEB14]\n",
      "\t(No symbol) [0x00007FF7408AECA2]\n",
      "\t(No symbol) [0x00007FF74089E16F]\n",
      "\tBaseThreadInitThunk [0x00007FFE2CCC7344+20]\n",
      "\tRtlUserThreadStart [0x00007FFE2EAFCC91+33]\n",
      "\n",
      "Fetching for https://www.oreilly.com/search/?q=data&type=*&rows=100&page=21\n",
      "Fetching for https://www.oreilly.com/search/?q=data&type=*&rows=100&page=22\n",
      "Fetching for https://www.oreilly.com/search/?q=data&type=*&rows=100&page=23\n",
      "Fetching for https://www.oreilly.com/search/?q=data&type=*&rows=100&page=25\n",
      "Fetching for https://www.oreilly.com/search/?q=data&type=*&rows=100&page=24\n",
      "Error fetching https://www.oreilly.com/search/?q=data&type=*&rows=100&page=21: Message: \n",
      "Stacktrace:\n",
      "\tGetHandleVerifier [0x00007FF74092EEA2+31554]\n",
      "\t(No symbol) [0x00007FF7408A7ED9]\n",
      "\t(No symbol) [0x00007FF74076872A]\n",
      "\t(No symbol) [0x00007FF7407B8434]\n",
      "\t(No symbol) [0x00007FF7407B853C]\n",
      "\t(No symbol) [0x00007FF7407FF6A7]\n",
      "\t(No symbol) [0x00007FF7407DD06F]\n",
      "\t(No symbol) [0x00007FF7407FC977]\n",
      "\t(No symbol) [0x00007FF7407DCDD3]\n",
      "\t(No symbol) [0x00007FF7407AA33B]\n",
      "\t(No symbol) [0x00007FF7407AAED1]\n",
      "\tGetHandleVerifier [0x00007FF740C38B1D+3217341]\n",
      "\tGetHandleVerifier [0x00007FF740C85AE3+3532675]\n",
      "\tGetHandleVerifier [0x00007FF740C7B0E0+3489152]\n",
      "\tGetHandleVerifier [0x00007FF7409DE776+750614]\n",
      "\t(No symbol) [0x00007FF7408B375F]\n",
      "\t(No symbol) [0x00007FF7408AEB14]\n",
      "\t(No symbol) [0x00007FF7408AECA2]\n",
      "\t(No symbol) [0x00007FF74089E16F]\n",
      "\tBaseThreadInitThunk [0x00007FFE2CCC7344+20]\n",
      "\tRtlUserThreadStart [0x00007FFE2EAFCC91+33]\n",
      "\n",
      "Error fetching https://www.oreilly.com/search/?q=data&type=*&rows=100&page=23: Message: \n",
      "Stacktrace:\n",
      "\tGetHandleVerifier [0x00007FF74092EEA2+31554]\n",
      "\t(No symbol) [0x00007FF7408A7ED9]\n",
      "\t(No symbol) [0x00007FF74076872A]\n",
      "\t(No symbol) [0x00007FF7407B8434]\n",
      "\t(No symbol) [0x00007FF7407B853C]\n",
      "\t(No symbol) [0x00007FF7407FF6A7]\n",
      "\t(No symbol) [0x00007FF7407DD06F]\n",
      "\t(No symbol) [0x00007FF7407FC977]\n",
      "\t(No symbol) [0x00007FF7407DCDD3]\n",
      "\t(No symbol) [0x00007FF7407AA33B]\n",
      "\t(No symbol) [0x00007FF7407AAED1]\n",
      "\tGetHandleVerifier [0x00007FF740C38B1D+3217341]\n",
      "\tGetHandleVerifier [0x00007FF740C85AE3+3532675]\n",
      "\tGetHandleVerifier [0x00007FF740C7B0E0+3489152]\n",
      "\tGetHandleVerifier [0x00007FF7409DE776+750614]\n",
      "\t(No symbol) [0x00007FF7408B375F]\n",
      "\t(No symbol) [0x00007FF7408AEB14]\n",
      "\t(No symbol) [0x00007FF7408AECA2]\n",
      "\t(No symbol) [0x00007FF74089E16F]\n",
      "\tBaseThreadInitThunk [0x00007FFE2CCC7344+20]\n",
      "\tRtlUserThreadStart [0x00007FFE2EAFCC91+33]\n",
      "\n",
      "Fetching for https://www.oreilly.com/search/?q=data&type=*&rows=100&page=26\n",
      "Fetching for https://www.oreilly.com/search/?q=data&type=*&rows=100&page=27\n",
      "Fetching for https://www.oreilly.com/search/?q=data&type=*&rows=100&page=28\n",
      "Fetching for https://www.oreilly.com/search/?q=data&type=*&rows=100&page=29\n",
      "Fetched 25 pages.\n"
     ]
    }
   ],
   "source": [
    "import concurrent.futures\n",
    "from selenium import webdriver\n",
    "from selenium.webdriver.chrome.service import Service as ChromeService\n",
    "from selenium.webdriver.common.by import By\n",
    "from selenium.webdriver.support.ui import WebDriverWait\n",
    "from selenium.webdriver.support import expected_conditions as EC\n",
    "from bs4 import BeautifulSoup\n",
    "import time\n",
    "\n",
    "# Path to WebDriver\n",
    "driver_path = './chromedriver.exe' \n",
    "\n",
    "def fetch_page(url, target):\n",
    "    options = webdriver.ChromeOptions()\n",
    "    options.add_argument(\"--headless=new\")\n",
    "    service = ChromeService(executable_path=driver_path)\n",
    "    driver = webdriver.Chrome(service=service, options=options)\n",
    "    print(f'Fetching for {url}')\n",
    "    try:\n",
    "        driver.get(url)\n",
    "        WebDriverWait(driver, 10).until(EC.presence_of_element_located((By.CSS_SELECTOR, target)))\n",
    "        page_source = driver.page_source\n",
    "    except Exception as e:\n",
    "        print(f'Error fetching {url}: {e}')\n",
    "        page_source = None\n",
    "    finally:\n",
    "        driver.quit()\n",
    "    return page_source\n",
    "\n",
    "\n",
    "base_url = 'https://www.oreilly.com/search/?q=data&type=*&rows=100&page='\n",
    "target = '.css-ataarr'\n",
    "page_contents = []\n",
    "\n",
    "urls = [base_url + str(i) for i in range(1, 30)]\n",
    "\n",
    "with concurrent.futures.ThreadPoolExecutor(max_workers=5) as executor:\n",
    "    future_to_url = {executor.submit(fetch_page, url, target): url for url in urls}\n",
    "    for future in concurrent.futures.as_completed(future_to_url):\n",
    "        url = future_to_url[future]\n",
    "        try:\n",
    "            page_content = future.result()\n",
    "            if page_content:\n",
    "                page_contents.append(page_content)\n",
    "        except Exception as e:\n",
    "            print(f'Error processing {url}: {e}')\n",
    "\n",
    "print(f'Fetched {len(page_contents)} pages.')"
   ]
  },
  {
   "cell_type": "code",
   "execution_count": 2,
   "metadata": {},
   "outputs": [
    {
     "data": {
      "text/plain": [
       "25"
      ]
     },
     "execution_count": 2,
     "metadata": {},
     "output_type": "execute_result"
    }
   ],
   "source": [
    "len(page_contents)"
   ]
  },
  {
   "cell_type": "code",
   "execution_count": 5,
   "metadata": {},
   "outputs": [],
   "source": [
    "soups = [BeautifulSoup(page_content, 'html5lib') for page_content in page_contents] "
   ]
  },
  {
   "cell_type": "code",
   "execution_count": 11,
   "metadata": {},
   "outputs": [
    {
     "data": {
      "text/plain": [
       "2500"
      ]
     },
     "execution_count": 11,
     "metadata": {},
     "output_type": "execute_result"
    }
   ],
   "source": [
    "filtered = []\n",
    "for soup in soups:\n",
    "    articles = soup.find_all('article' , {'class' : 'css-ataarr'})\n",
    "    for article in articles:\n",
    "        filtered.append(article)\n",
    "len(filtered)"
   ]
  },
  {
   "cell_type": "code",
   "execution_count": 12,
   "metadata": {},
   "outputs": [
    {
     "data": {
      "text/plain": [
       "2087"
      ]
     },
     "execution_count": 12,
     "metadata": {},
     "output_type": "execute_result"
    }
   ],
   "source": [
    "books = []\n",
    "for product in filtered:\n",
    "    try:\n",
    "        format_product = product.find('strong' , {'class' : 'css-vpja4u'}).text.split(':')[-1].strip().lower()\n",
    "        books.append(product.find('section' , {'class': \"css-1turkkp\"}))\n",
    "    except:\n",
    "        continue\n",
    "len(books)"
   ]
  },
  {
   "cell_type": "code",
   "execution_count": 13,
   "metadata": {},
   "outputs": [],
   "source": [
    "books_parsed = []\n",
    "for book in books:\n",
    "    try:\n",
    "        base_url = 'https://www.oreilly.com'\n",
    "        cover = base_url+book.find('a' , {'class': 'css-1d8z3am'}).img['src']\n",
    "        title = book.find('h3').text\n",
    "        authors = book.find('div' , {'class' : 'css-3e7u07'}).a.text\n",
    "        authors = authors.split(',')\n",
    "        publication_details = book.find('div' , 'css-19eyivp')\n",
    "        publisher = publication_details.a.text\n",
    "        published = publication_details.find_all('span')[-1].text\n",
    "        books_parsed.append({'title': title,'cover' : cover, 'authors': authors , 'publisher' : publisher , 'published_on' : published })\n",
    "    except:\n",
    "        continue\n"
   ]
  },
  {
   "cell_type": "code",
   "execution_count": 19,
   "metadata": {},
   "outputs": [],
   "source": [
    "import json \n",
    "with open('books.json' , 'w' ) as f:\n",
    "    json.dump(books_parsed,f)"
   ]
  },
  {
   "cell_type": "code",
   "execution_count": 30,
   "metadata": {},
   "outputs": [],
   "source": [
    "def get_year(book):\n",
    "    return book['published_on'].split(' ')[-1]\n",
    "from collections import Counter\n",
    "year_counts = Counter(get_year(book) for book in books_parsed)\n",
    "year_counts_filtered =  Counter(year for year in (get_year(book) for book in books_parsed) if year and year_counts[year] >= 10)\n"
   ]
  },
  {
   "cell_type": "code",
   "execution_count": 36,
   "metadata": {},
   "outputs": [
    {
     "data": {
      "image/png": "[encoded data removed]",
      "text/plain": [
       "<Figure size 640x480 with 1 Axes>"
      ]
     },
     "metadata": {},
     "output_type": "display_data"
    }
   ],
   "source": [
    "import matplotlib.pyplot as plt\n",
    "years = sorted(year_counts_filtered)\n",
    "book_counts = [year_counts_filtered[year] for year in years]\n",
    "plt.plot(years, book_counts)\n",
    "plt.ylabel(\"# of data books\")\n",
    "# xticks to rotate the labels for years\n",
    "plt.xticks(rotation=70)\n",
    "plt.title(\"Data books by orielly through the years!\")\n",
    "plt.show()"
   ]
  },
  {
   "cell_type": "code",
   "execution_count": 37,
   "metadata": {},
   "outputs": [],
   "source": [
    "x = 0\n",
    "n = len(year_counts)\n",
    "for year in  year_counts:\n",
    "    x+= year_counts[year]"
   ]
  },
  {
   "cell_type": "code",
   "execution_count": 41,
   "metadata": {},
   "outputs": [
    {
     "data": {
      "text/plain": [
       "63.5"
      ]
     },
     "execution_count": 41,
     "metadata": {},
     "output_type": "execute_result"
    }
   ],
   "source": [
    "avg_books_per_year = x/n\n",
    "avg_books_per_year"
   ]
  },
  {
   "cell_type": "code",
   "execution_count": null,
   "metadata": {},
   "outputs": [],
   "source": []
  }
 ],
 "metadata": {
  "kernelspec": {
   "display_name": "Python 3 (ipykernel)",
   "language": "python",
   "name": "python3"
  },
  "language_info": {
   "codemirror_mode": {
    "name": "ipython",
    "version": 3
   },
   "file_extension": ".py",
   "mimetype": "text/x-python",
   "name": "python",
   "nbconvert_exporter": "python",
   "pygments_lexer": "ipython3",
   "version": "3.11.5"
  }
 },
 "nbformat": 4,
 "nbformat_minor": 2
}
