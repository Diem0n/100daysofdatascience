{
 "cells": [
  {
   "cell_type": "markdown",
   "id": "1a065678",
   "metadata": {},
   "source": [
    "# vectors"
   ]
  },
  {
   "cell_type": "code",
   "execution_count": 3,
   "id": "14033789",
   "metadata": {},
   "outputs": [],
   "source": [
    "def vector_add(v,w):\n",
    "    return [ v_i+w_i for v_i , w_i in zip(v,w)]\n",
    "def vector_subtract(v,w):\n",
    "    return [ v_i-w_i for v_i , w_i in zip(v,w)]"
   ]
  },
  {
   "cell_type": "code",
   "execution_count": 5,
   "id": "97c763ed",
   "metadata": {},
   "outputs": [
    {
     "data": {
      "text/plain": [
       "[3, 3]"
      ]
     },
     "execution_count": 5,
     "metadata": {},
     "output_type": "execute_result"
    }
   ],
   "source": [
    "vector_add([1,1],[2,2])"
   ]
  },
  {
   "cell_type": "code",
   "execution_count": 6,
   "id": "fb23757c",
   "metadata": {},
   "outputs": [
    {
     "data": {
      "text/plain": [
       "[-1, -1]"
      ]
     },
     "execution_count": 6,
     "metadata": {},
     "output_type": "execute_result"
    }
   ],
   "source": [
    "\n",
    "vector_subtract([1,1],[2,2])"
   ]
  },
  {
   "cell_type": "code",
   "execution_count": 10,
   "id": "39a842ce",
   "metadata": {},
   "outputs": [],
   "source": [
    "# vector reduction and composite sum\n",
    "from functools import reduce\n",
    "def vector_csum(vectors):\n",
    "    return reduce(vector_add,vectors)"
   ]
  },
  {
   "cell_type": "code",
   "execution_count": 11,
   "id": "909b221e",
   "metadata": {},
   "outputs": [
    {
     "data": {
      "text/plain": [
       "[6, 6]"
      ]
     },
     "execution_count": 11,
     "metadata": {},
     "output_type": "execute_result"
    }
   ],
   "source": [
    "vector_csum([[1,1],[2,2],[3,3]])"
   ]
  },
  {
   "cell_type": "code",
   "execution_count": 12,
   "id": "48d1dbb6",
   "metadata": {},
   "outputs": [],
   "source": [
    "# scalar multiplication\n",
    "def scalar_mul(vector , c):\n",
    "    return [i*c for i in vector]"
   ]
  },
  {
   "cell_type": "code",
   "execution_count": 13,
   "id": "ba5a67dd",
   "metadata": {},
   "outputs": [
    {
     "data": {
      "text/plain": [
       "[5, 5]"
      ]
     },
     "execution_count": 13,
     "metadata": {},
     "output_type": "execute_result"
    }
   ],
   "source": [
    "scalar_mul([1,1],5)"
   ]
  },
  {
   "cell_type": "code",
   "execution_count": 19,
   "id": "adeb9c3e",
   "metadata": {},
   "outputs": [],
   "source": [
    "def vector_mean(vectors):\n",
    "    \"\"\"compute the vector whose ith element is the mean of the\n",
    "        ith elements of the input vectors\"\"\"\n",
    "    n = len(vectors)\n",
    "    return scalar_mul(vector_csum(vectors),1/n)"
   ]
  },
  {
   "cell_type": "code",
   "execution_count": 20,
   "id": "18600344",
   "metadata": {},
   "outputs": [
    {
     "data": {
      "text/plain": [
       "[5.0, 5.0]"
      ]
     },
     "execution_count": 20,
     "metadata": {},
     "output_type": "execute_result"
    }
   ],
   "source": [
    "vector_mean([[5,5],[5,5]])"
   ]
  },
  {
   "cell_type": "code",
   "execution_count": 23,
   "id": "9da4d46d",
   "metadata": {},
   "outputs": [],
   "source": [
    "def dot_prod(v,w):\n",
    "    return sum(v_i*w_i for v_i ,w_i in zip(v,w))"
   ]
  },
  {
   "cell_type": "code",
   "execution_count": 24,
   "id": "afdd22cb",
   "metadata": {},
   "outputs": [
    {
     "data": {
      "text/plain": [
       "12"
      ]
     },
     "execution_count": 24,
     "metadata": {},
     "output_type": "execute_result"
    }
   ],
   "source": [
    "dot_prod([2,2],[3,3])"
   ]
  },
  {
   "cell_type": "code",
   "execution_count": 27,
   "id": "97bfceb1",
   "metadata": {},
   "outputs": [],
   "source": [
    "#vector sum of squares\n",
    "def vector_sum_squared(v):\n",
    "    return dot_prod(v,v)"
   ]
  },
  {
   "cell_type": "code",
   "execution_count": 28,
   "id": "4da4846b",
   "metadata": {},
   "outputs": [
    {
     "data": {
      "text/plain": [
       "18"
      ]
     },
     "execution_count": 28,
     "metadata": {},
     "output_type": "execute_result"
    }
   ],
   "source": [
    "vector_sum_squared([3,3])"
   ]
  },
  {
   "cell_type": "code",
   "execution_count": 29,
   "id": "448a5f92",
   "metadata": {},
   "outputs": [],
   "source": [
    "# we can now compute the length or magnitude \n",
    "import math \n",
    "\n",
    "def magnitude(v):\n",
    "    return math.sqrt(vector_sum_squared(v))\n"
   ]
  },
  {
   "attachments": {
    "image.png": {
     "image/png": "[encoded data removed]"
    }
   },
   "cell_type": "markdown",
   "id": "d729ff0d",
   "metadata": {},
   "source": [
    "\n",
    "### we can now compute the distance \n",
    "\n",
    "![image.png](attachment:image.png)"
   ]
  },
  {
   "cell_type": "code",
   "execution_count": 30,
   "id": "dc3b672d",
   "metadata": {},
   "outputs": [],
   "source": [
    "def squared_distance(v,w):\n",
    "    \"\"\"(v_1 - w_1) ** 2 + ... + (v_n - w_n) ** 2\"\"\"\n",
    "    return vector_sum_squared(vector_subtract(v,w))"
   ]
  },
  {
   "cell_type": "code",
   "execution_count": 33,
   "id": "8dc8d9b9",
   "metadata": {},
   "outputs": [],
   "source": [
    "def distance(v,w):\n",
    "   return math.sqrt(squared_distance(v,w))"
   ]
  },
  {
   "cell_type": "code",
   "execution_count": 34,
   "id": "a170106c",
   "metadata": {},
   "outputs": [
    {
     "data": {
      "text/plain": [
       "1.4142135623730951"
      ]
     },
     "execution_count": 34,
     "metadata": {},
     "output_type": "execute_result"
    }
   ],
   "source": [
    "distance([1,1],[2,2])"
   ]
  },
  {
   "cell_type": "code",
   "execution_count": 35,
   "id": "88bfee43",
   "metadata": {},
   "outputs": [],
   "source": [
    "# or we can commpute the distance via \n",
    "def distance_mag(v,w):\n",
    "    return magnitude(vector_subtract(v,w))"
   ]
  },
  {
   "cell_type": "code",
   "execution_count": 36,
   "id": "efbdcb1f",
   "metadata": {},
   "outputs": [
    {
     "data": {
      "text/plain": [
       "1.4142135623730951"
      ]
     },
     "execution_count": 36,
     "metadata": {},
     "output_type": "execute_result"
    }
   ],
   "source": [
    "distance_mag([1,1],[2,2])"
   ]
  },
  {
   "cell_type": "markdown",
   "id": "1e688855",
   "metadata": {},
   "source": [
    "### Matrices "
   ]
  },
  {
   "cell_type": "code",
   "execution_count": 38,
   "id": "603b45e5",
   "metadata": {},
   "outputs": [],
   "source": [
    "def shape(m):\n",
    "    return (len(m) , len(m[0])if m else 0)"
   ]
  },
  {
   "cell_type": "code",
   "execution_count": 41,
   "id": "84ec2b60",
   "metadata": {},
   "outputs": [
    {
     "data": {
      "text/plain": [
       "(2, 3)"
      ]
     },
     "execution_count": 41,
     "metadata": {},
     "output_type": "execute_result"
    }
   ],
   "source": [
    "shape([[1.1 ,1.1 , 3],[1,1,2] ])"
   ]
  },
  {
   "cell_type": "code",
   "execution_count": 1,
   "id": "3c2e8930",
   "metadata": {},
   "outputs": [],
   "source": [
    "#get row \n",
    "def get_row(m ,i):\n",
    "    return m[i]\n",
    "def get_col(m,i):\n",
    "    return [m_i[i] for m_i in m]\n",
    "\n"
   ]
  },
  {
   "cell_type": "code",
   "execution_count": 3,
   "id": "861f3198",
   "metadata": {},
   "outputs": [],
   "source": [
    "def make_matrix(num_rows, num_cols, entry_fn):\n",
    "    \"\"\"returns a num_rows x num_cols matrix\n",
    "    whose (i,j)th entry is entry_fn(i, j)\"\"\"\n",
    "    return [[entry_fn(i, j) # given i, create a list\n",
    "            for j in range(num_cols)] # [entry_fn(i, 0), ... ]\n",
    "            for i in range(num_rows)] # create one list for each i"
   ]
  },
  {
   "cell_type": "code",
   "execution_count": 4,
   "id": "9a3c73ba",
   "metadata": {},
   "outputs": [],
   "source": [
    "def is_diagonal(i,j):\n",
    "    return 1 if i==j else 0\n"
   ]
  },
  {
   "cell_type": "code",
   "execution_count": 5,
   "id": "add89f0d",
   "metadata": {},
   "outputs": [],
   "source": [
    "m = make_matrix(5,5,is_diagonal)"
   ]
  },
  {
   "cell_type": "code",
   "execution_count": 6,
   "id": "31b35fa5",
   "metadata": {},
   "outputs": [
    {
     "data": {
      "text/plain": [
       "[[1, 0, 0, 0, 0],\n",
       " [0, 1, 0, 0, 0],\n",
       " [0, 0, 1, 0, 0],\n",
       " [0, 0, 0, 1, 0],\n",
       " [0, 0, 0, 0, 1]]"
      ]
     },
     "execution_count": 6,
     "metadata": {},
     "output_type": "execute_result"
    }
   ],
   "source": [
    "m"
   ]
  },
  {
   "cell_type": "markdown",
   "id": "19b320cf",
   "metadata": {},
   "source": [
    "Linear algebra is widely used by data scientists (frequently implicitly, and not\n",
    "infrequently by people who don’t understand it). It wouldn’t be a bad idea to read a\n",
    "textbook. You can find several freely available online:\n",
    "Linear Algebra, from UC Davis\n",
    "Linear Algebra, from Saint Michael’s College\n",
    "If you are feeling adventurous, Linear Algebra Done Wrong is a more advanced\n",
    "introduction\n",
    "All of the machinery we built here you get for free if you use NumPy. (You get a lot\n",
    "more too.)"
   ]
  },
  {
   "cell_type": "code",
   "execution_count": null,
   "id": "f260db83",
   "metadata": {},
   "outputs": [],
   "source": []
  }
 ],
 "metadata": {
  "kernelspec": {
   "display_name": "Python 3 (ipykernel)",
   "language": "python",
   "name": "python3"
  },
  "language_info": {
   "codemirror_mode": {
    "name": "ipython",
    "version": 3
   },
   "file_extension": ".py",
   "mimetype": "text/x-python",
   "name": "python",
   "nbconvert_exporter": "python",
   "pygments_lexer": "ipython3",
   "version": "3.11.5"
  }
 },
 "nbformat": 4,
 "nbformat_minor": 5
}
