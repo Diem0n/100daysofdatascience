{
 "cells": [
  {
   "cell_type": "markdown",
   "id": "bf172842",
   "metadata": {},
   "source": [
    "### Describing a Single Set of Data\n",
    "Through a combination of word-of-mouth and luck, DataSciencester has grown to dozens\n",
    "of members, and the VP of Fundraising asks you for some sort of description of how many\n",
    "friends your members have that he can include in his elevator pitches."
   ]
  },
  {
   "cell_type": "code",
   "execution_count": 50,
   "id": "73ea4595",
   "metadata": {},
   "outputs": [],
   "source": [
    "# THE first and obvious approach would be to just plot the data using a historgram\n",
    "from collections import Counter\n",
    "import random\n",
    "num_friends = [random.randrange(1,101,1) for i in range(100)]\n",
    "num_minutes = [random.randrange(1,101,1) for i in range(100)]\n",
    "friends_counter = Counter(num_friends)\n"
   ]
  },
  {
   "cell_type": "code",
   "execution_count": 51,
   "id": "25832ebd",
   "metadata": {
    "scrolled": false
   },
   "outputs": [
    {
     "data": {
      "text/plain": [
       "64"
      ]
     },
     "execution_count": 51,
     "metadata": {},
     "output_type": "execute_result"
    }
   ],
   "source": [
    "len(friends_counter)"
   ]
  },
  {
   "cell_type": "code",
   "execution_count": 52,
   "id": "fd97734c",
   "metadata": {},
   "outputs": [
    {
     "data": {
      "image/png": "[encoded data removed]",
      "text/plain": [
       "<Figure size 640x480 with 1 Axes>"
      ]
     },
     "metadata": {},
     "output_type": "display_data"
    }
   ],
   "source": [
    "import matplotlib.pyplot as plt \n",
    "xs = range(101) #largest value is 100\n",
    "ys = [friends_counter[x] for x in xs]\n",
    "plt.bar(xs , ys)\n",
    "plt.axis([0 , 101 , 0 , 25])\n",
    "plt.title('histogram of friend counts')\n",
    "plt.xlabel('# of friends')\n",
    "plt.ylabel('# of people')\n",
    "plt.show()"
   ]
  },
  {
   "cell_type": "code",
   "execution_count": 53,
   "id": "a96b1668",
   "metadata": {},
   "outputs": [
    {
     "data": {
      "text/plain": [
       "100"
      ]
     },
     "execution_count": 53,
     "metadata": {},
     "output_type": "execute_result"
    }
   ],
   "source": [
    "# a list of simple statistics that can be computed from this are \n",
    "num_points = len(num_friends)\n",
    "num_points"
   ]
  },
  {
   "cell_type": "code",
   "execution_count": 54,
   "id": "7b563eb8",
   "metadata": {},
   "outputs": [
    {
     "name": "stdout",
     "output_type": "stream",
     "text": [
      "highest : 99 , lowest: 1\n"
     ]
    }
   ],
   "source": [
    "highest = max(num_friends)\n",
    "lowest = min(num_friends)\n",
    "print(f'highest : {highest} , lowest: {lowest}')"
   ]
  },
  {
   "cell_type": "markdown",
   "id": "ccb98786",
   "metadata": {},
   "source": [
    "### Measures of central tendency\n",
    "we usually want to know where our data is centered hence the name measures of central tendency \n",
    "these include mean, median , mode , midrange"
   ]
  },
  {
   "cell_type": "markdown",
   "id": "76df79b4",
   "metadata": {},
   "source": [
    "### mean"
   ]
  },
  {
   "cell_type": "code",
   "execution_count": 55,
   "id": "1c303f39",
   "metadata": {},
   "outputs": [
    {
     "data": {
      "text/plain": [
       "53.54"
      ]
     },
     "execution_count": 55,
     "metadata": {},
     "output_type": "execute_result"
    }
   ],
   "source": [
    "from __future__ import division\n",
    "'''\n",
    "the reason for using __future__ division is to map the / or // operator to true division as without it both int and \n",
    "float divisions would return 1 in the case of 8/7 or 8//7 in reality it is  1.1428571428571428 , 1 respectively \n",
    "'''\n",
    "def mean(x):\n",
    "    return sum(x)/len(x)\n",
    "\n",
    "mean(num_friends)\n",
    "\n"
   ]
  },
  {
   "cell_type": "markdown",
   "id": "40933707",
   "metadata": {},
   "source": [
    "### median\n",
    "which is the middle-most value (if the\n",
    "number of data points is odd) or the average of the two middle-most values (if the number\n",
    "of data points is even).\n",
    "For instance, if we have five data points in a sorted vector x, the median is x[5 // 2] or\n",
    "x[2]. If we have six data points, we want the average of x[2] (the third point) and x[3]\n",
    "(the fourth point).\n",
    "Notice that — unlike the mean — the median doesn’t depend on every value in your data.\n",
    "For example, if you make the largest point larger (or the smallest point smaller), the\n",
    "middle points remain unchanged, which means so does the median."
   ]
  },
  {
   "cell_type": "code",
   "execution_count": 56,
   "id": "ee193eb9",
   "metadata": {},
   "outputs": [
    {
     "data": {
      "text/plain": [
       "56.5"
      ]
     },
     "execution_count": 56,
     "metadata": {},
     "output_type": "execute_result"
    }
   ],
   "source": [
    "def median(x):\n",
    "    n = len(x)\n",
    "    vals = sorted(x)\n",
    "    midpoint = n // 2\n",
    "    if (n%2 == 1):\n",
    "        return vals[midpoint]\n",
    "    else:\n",
    "        l = midpoint - 1\n",
    "        h = midpoint \n",
    "        \n",
    "        return (vals[l] + vals[h])/2\n",
    "median(num_friends)        "
   ]
  },
  {
   "cell_type": "markdown",
   "id": "ade1021c",
   "metadata": {},
   "source": [
    "Clearly, the mean is simpler to compute, and it varies smoothly as our data changes. If we\n",
    "have n data points and one of them increases by some small amount e, then necessarily the\n",
    "mean will increase by e / n. (This makes the mean amenable to all sorts of calculus tricks.)\n",
    "Whereas in order to find the median, we have to sort our data. And changing one of our\n",
    "data points by a small amount e might increase the median by e, by some number less than\n",
    "e, or not at all (depending on the rest of the data).\n",
    "At the same time, the mean is very sensitive to outliers in our data. If our friendliest user\n",
    "had 200 friends (instead of 100), then the mean would rise to 7.82, while the median\n",
    "would stay the same. If outliers are likely to be bad data (or otherwise unrepresentative of\n",
    "whatever phenomenon we’re trying to understand), then the mean can sometimes give us a\n",
    "misleading picture. For example, the story is often told that in the mid-1980s, the major at\n",
    "the University of North Carolina with the highest average starting salary was geography,\n",
    "mostly on account of NBA star (and outlier) Michael Jordan."
   ]
  },
  {
   "cell_type": "markdown",
   "id": "602c640e",
   "metadata": {},
   "source": [
    "### Quantile\n",
    "A generalization of the median is the quantile, which represents the value less than which\n",
    "a certain percentile of the data lies. (The median represents the value less than which 50%\n",
    "of the data lies.)"
   ]
  },
  {
   "cell_type": "code",
   "execution_count": 57,
   "id": "11536eba",
   "metadata": {},
   "outputs": [
    {
     "data": {
      "text/plain": [
       "{0.25: 25, 0.5: 59, 0.75: 83, 0.99: 99}"
      ]
     },
     "execution_count": 57,
     "metadata": {},
     "output_type": "execute_result"
    }
   ],
   "source": [
    "def quantile(x, perc):\n",
    "    vals = {}\n",
    "    for i in range(len(perc)):\n",
    "        p_index = int(perc[i] * len(x) )\n",
    "        vals[perc[i]] = sorted(x)[p_index]\n",
    "    return vals\n",
    "quantile(num_friends,[0.25,0.50,0.75,0.99])"
   ]
  },
  {
   "cell_type": "markdown",
   "id": "f223d908",
   "metadata": {},
   "source": [
    "### Mode"
   ]
  },
  {
   "cell_type": "code",
   "execution_count": 58,
   "id": "2253aa03",
   "metadata": {},
   "outputs": [
    {
     "data": {
      "text/plain": [
       "[71, 83]"
      ]
     },
     "execution_count": 58,
     "metadata": {},
     "output_type": "execute_result"
    }
   ],
   "source": [
    "def mode(x):\n",
    "    '''returns a list of most frequent values which in some cases may be 1 or greater'''\n",
    "    counts = Counter(x)\n",
    "    max_count = max(counts.values())\n",
    "    return [ x_i for x_i, count in counts.items() if count == max_count]\n",
    "mode(num_friends)"
   ]
  },
  {
   "cell_type": "markdown",
   "id": "185d4f00",
   "metadata": {},
   "source": [
    "### Dispersion\n",
    "Dispersion refers to measures of how spread out our data is. Typically they’re statistics for\n",
    "which values near zero signify not spread out at all and for which large values (whatever\n",
    "that means) signify very spread out. For instance, a very simple measure is the range,\n",
    "which is just the difference between the largest and smallest elements:"
   ]
  },
  {
   "cell_type": "code",
   "execution_count": 59,
   "id": "04874d7c",
   "metadata": {},
   "outputs": [
    {
     "data": {
      "text/plain": [
       "98"
      ]
     },
     "execution_count": 59,
     "metadata": {},
     "output_type": "execute_result"
    }
   ],
   "source": [
    "def mid_range(x):\n",
    "    return max(x)- min(x)\n",
    "mid_range(num_friends)"
   ]
  },
  {
   "cell_type": "markdown",
   "id": "36191715",
   "metadata": {},
   "source": [
    "### Variance\n"
   ]
  },
  {
   "cell_type": "code",
   "execution_count": 60,
   "id": "c00c9e12",
   "metadata": {},
   "outputs": [],
   "source": [
    "def dot_prod(v,w):\n",
    "    return sum(v_i*w_i for v_i ,w_i in zip(v,w))\n",
    "#vector sum of squares\n",
    "def vector_sum_squared(v):\n",
    "    return dot_prod(v,v)"
   ]
  },
  {
   "cell_type": "code",
   "execution_count": 61,
   "id": "98c08f09",
   "metadata": {},
   "outputs": [
    {
     "data": {
      "text/plain": [
       "951.3620202020201"
      ]
     },
     "execution_count": 61,
     "metadata": {},
     "output_type": "execute_result"
    }
   ],
   "source": [
    "def de_mean(x):\n",
    "    x_bar = mean(x)\n",
    "    return [x_i - x_bar for x_i in x]\n",
    "def variance(x,flag='s'):\n",
    "    '''here flag represents if the variance is to be calculated of a sample or a population the two options are p or s'''\n",
    "    n = len(x)\n",
    "    deviances = de_mean(x)\n",
    "    return vector_sum_squared(deviances) / (n-1) if flag=='s' else n\n",
    "variance(num_friends)"
   ]
  },
  {
   "cell_type": "markdown",
   "id": "bc922da4",
   "metadata": {},
   "source": [
    "`here the high variance indicates that the there is a significant dispersion in data(i.e data points are widely spread out from the mean `\n"
   ]
  },
  {
   "cell_type": "code",
   "execution_count": 62,
   "id": "1b9992e1",
   "metadata": {},
   "outputs": [
    {
     "data": {
      "text/plain": [
       "30.844156986405384"
      ]
     },
     "execution_count": 62,
     "metadata": {},
     "output_type": "execute_result"
    }
   ],
   "source": [
    "from math import sqrt\n",
    "def standard_deviation(x):\n",
    "    return sqrt(variance(x))\n",
    "standard_deviation(num_friends)"
   ]
  },
  {
   "cell_type": "markdown",
   "id": "c3b1c431",
   "metadata": {},
   "source": [
    "### Problem with standard deviation and range\n",
    "\n",
    "both of these have the same outlier problem we saw for mean so we can use another method"
   ]
  },
  {
   "cell_type": "markdown",
   "id": "f12f63de",
   "metadata": {},
   "source": [
    "### interquartile range\n",
    "\n",
    "or simply IQR is just Q3-Q1 is better for a small number of outliers\n"
   ]
  },
  {
   "cell_type": "code",
   "execution_count": 63,
   "id": "4af008d5",
   "metadata": {},
   "outputs": [
    {
     "data": {
      "text/plain": [
       "58"
      ]
     },
     "execution_count": 63,
     "metadata": {},
     "output_type": "execute_result"
    }
   ],
   "source": [
    "def interquartile_range(x):\n",
    "    quantiles= quantile(x,[0.25,0.5 , 0.75,0.99])\n",
    "    return quantiles[0.75] - quantiles[0.25]\n",
    "interquartile_range(num_friends )"
   ]
  },
  {
   "cell_type": "markdown",
   "id": "98b71d68",
   "metadata": {},
   "source": [
    "### Correlation\n",
    "DataSciencester’s VP of Growth has a theory that the amount of time people spend on the\n",
    "site is related to the number of friends they have on the site (she’s not a VP for nothing),\n",
    "and she’s asked you to verify this.\n",
    "After digging through traffic logs, you’ve come up with a list daily_minutes that shows\n",
    "how many minutes per day each user spends on DataSciencester, and you’ve ordered it so\n",
    "that its elements correspond to the elements of our previous num_friends list. We’d like to\n",
    "investigate the relationship between these two metrics.\n",
    "We’ll first look at covariance, the paired analogue of variance. Whereas variance\n",
    "measures how a single variable deviates from its mean, covariance measures how two\n",
    "variables vary in tandem from their means:"
   ]
  },
  {
   "cell_type": "code",
   "execution_count": 64,
   "id": "d4290a8a",
   "metadata": {},
   "outputs": [
    {
     "data": {
      "text/plain": [
       "51.0"
      ]
     },
     "execution_count": 64,
     "metadata": {},
     "output_type": "execute_result"
    }
   ],
   "source": [
    "def covariance(x,y):\n",
    "    n = len(y)\n",
    "    return dot_prod(de_mean(x),de_mean(y))//(n-1)\n",
    "covariance(num_friends,num_minutes)\n",
    "\n"
   ]
  },
  {
   "cell_type": "markdown",
   "id": "8f7b623f",
   "metadata": {},
   "source": [
    "- a “large” positive covariance means that x\n",
    "  tends to be large when y is large and small when y is small. \n",
    "- A “large” negative covariance\n",
    "  means the opposite — that x tends to be small when y is large and vice versa. \n",
    "- A covariance close to zero means that no such relationship exists.\n",
    "  Nonetheless, this number can be hard to interpret, for a couple of reasons:\n",
    "- Its units are the product of the inputs’ units (e.g., friend-minutes-per-day), which can be\n",
    "  hard to make sense of. (What’s a “friend-minute-per-day”?)\n",
    "- If each user had twice as many friends (but the same number of minutes), the\n",
    "  covariance would be twice as large. But in a sense the variables would be just as\n",
    "  interrelated. Said differently, it’s hard to say what counts as a “large” covariance."
   ]
  },
  {
   "cell_type": "code",
   "execution_count": 65,
   "id": "c17e0a4c",
   "metadata": {},
   "outputs": [
    {
     "data": {
      "text/plain": [
       "0.05558816967228801"
      ]
     },
     "execution_count": 65,
     "metadata": {},
     "output_type": "execute_result"
    }
   ],
   "source": [
    "'''\n",
    "For this reason, it’s more common to look at the correlation, which divides out the\n",
    "standard deviations of both variables\n",
    "'''\n",
    "\n",
    "def correlation(x,y):\n",
    "    std_x = standard_deviation(x)\n",
    "    std_y = standard_deviation(y)\n",
    "    \n",
    "    if std_x > 0 and std_y > 0:\n",
    "        return covariance(x,y) / std_x / std_y\n",
    "    else:\n",
    "        return 0\n",
    "correlation(num_friends , num_minutes)\n",
    "# the negative correlation was obtain which i removed by reducing the sample size from 900 to 100 \n",
    "# in order to simulate the example we will redfine the samples such that there exists an outlier \n"
   ]
  },
  {
   "cell_type": "code",
   "execution_count": 90,
   "id": "af4d4f0e",
   "metadata": {},
   "outputs": [
    {
     "data": {
      "text/plain": [
       "-0.1658814729639482"
      ]
     },
     "execution_count": 90,
     "metadata": {},
     "output_type": "execute_result"
    }
   ],
   "source": [
    "# adding an artificial outlier \n",
    "num_minutes[-1] = 1\n",
    "num_friends[-1] = 10000\n",
    "correlation(num_friends , num_minutes)"
   ]
  },
  {
   "cell_type": "code",
   "execution_count": 91,
   "id": "1af42d78",
   "metadata": {},
   "outputs": [
    {
     "data": {
      "image/png": "[encoded data removed]",
      "text/plain": [
       "<Figure size 640x480 with 1 Axes>"
      ]
     },
     "metadata": {},
     "output_type": "display_data"
    }
   ],
   "source": [
    "plt.scatter(num_friends,num_minutes)\n",
    "plt.xlabel('#number of friends')\n",
    "plt.ylabel('#number of minutes')\n",
    "plt.title('Correlation negative examination')\n",
    "plt.show()"
   ]
  },
  {
   "cell_type": "code",
   "execution_count": 95,
   "id": "ce4502ad",
   "metadata": {},
   "outputs": [
    {
     "data": {
      "text/plain": [
       "0.9988728827397522"
      ]
     },
     "execution_count": 95,
     "metadata": {},
     "output_type": "execute_result"
    }
   ],
   "source": [
    "# removing the outlier \n",
    "\n",
    "outlier_x = num_friends[-1]\n",
    "outlier_y = num_minutes[-1]\n",
    "num_good_friends = [x for i ,x in enumerate(num_friends) if x != outlier_x]\n",
    "num_good_minutes= [x for i ,x in enumerate(num_minutes) if x != outlier_y]\n",
    "\n",
    "correlation(num_good_friends , num_good_minutes)\n"
   ]
  },
  {
   "cell_type": "code",
   "execution_count": 98,
   "id": "e0d480b3",
   "metadata": {},
   "outputs": [
    {
     "data": {
      "image/png": "[encoded data removed]",
      "text/plain": [
       "<Figure size 640x480 with 1 Axes>"
      ]
     },
     "metadata": {},
     "output_type": "display_data"
    }
   ],
   "source": [
    "\n",
    "plt.scatter(num_good_friends,num_good_minutes)\n",
    "plt.xlabel('#number of friends')\n",
    "plt.ylabel('#number of minutes')\n",
    "plt.title('sample after outlier removal')\n",
    "plt.show()"
   ]
  },
  {
   "attachments": {
    "image-2.png": {
     "image/png": "[encoded data removed]"
    },
    "image.png": {
     "image/png": "[encoded data removed]"
    }
   },
   "cell_type": "markdown",
   "id": "9dbde061",
   "metadata": {},
   "source": [
    "### Simpson’s Paradox\n",
    "One not uncommon surprise when analyzing data is Simpson’s Paradox, in which\n",
    "correlations can be misleading when confounding variables are ignored.\n",
    "For example, imagine that you can identify all of your members as either East Coast data\n",
    "scientists or West Coast data scientists. You decide to examine which coast’s data\n",
    "scientists are friendlier:\n",
    "\n",
    "![image.png](attachment:image.png)\n",
    "\n",
    "It certainly looks like the West Coast data scientists are friendlier than the East Coast data\n",
    "scientists. Your coworkers advance all sorts of theories as to why this might be: maybe it’s\n",
    "the sun, or the coffee, or the organic produce, or the laid-back Pacific vibe?\n",
    "When playing with the data you discover something very strange. If you only look at\n",
    "people with PhDs, the East Coast data scientists have more friends on average. And if you\n",
    "only look at people without PhDs, the East Coast data scientists also have more friends on\n",
    "average!\n",
    "\n",
    "![image-2.png](attachment:image-2.png)\n",
    "\n",
    "Once you account for the users’ degrees, the correlation goes in the opposite direction!\n",
    "Bucketing the data as East Coast/West Coast disguised the fact that the East Coast data\n",
    "scientists skew much more heavily toward PhD types.\n",
    "This phenomenon crops up in the real world with some regularity. The key issue is that\n",
    "correlation is measuring the relationship between your two variables all else being equal.\n",
    "If your data classes are assigned at random, as they might be in a well-designed\n",
    "experiment, “all else being equal” might not be a terrible assumption. But when there is a\n",
    "deeper pattern to class assignments, “all else being equal” can be an awful assumption.\n",
    "The only real way to avoid this is by knowing your data and by doing what you can to\n",
    "make sure you’ve checked for possible confounding factors. Obviously, this is not always\n",
    "possible. If you didn’t have the educational attainment of these 200 data scientists, you\n",
    "might simply conclude that there was something inherently more sociable about the West\n",
    "Coast."
   ]
  },
  {
   "cell_type": "markdown",
   "id": "9751e9e5",
   "metadata": {},
   "source": [
    "### Correlation and Causation\n",
    "You have probably heard at some point that “correlation is not causation,” most likely by\n",
    "someone looking at data that posed a challenge to parts of his worldview that he was\n",
    "reluctant to question. Nonetheless, this is an important point — if x and y are strongly\n",
    "correlated, that might mean that x causes y, that y causes x, that each causes the other, that\n",
    "some third factor causes both, or it might mean nothing.\n",
    "Consider the relationship between num_friends and daily_minutes. It’s possible that\n",
    "having more friends on the site causes DataSciencester users to spend more time on the\n",
    "site. This might be the case if each friend posts a certain amount of content each day,\n",
    "which means that the more friends you have, the more time it takes to stay current with\n",
    "their updates.\n",
    "However, it’s also possible that the more time you spend arguing in the DataSciencester\n",
    "forums, the more you encounter and befriend like-minded people. That is, spending more\n",
    "time on the site causes users to have more friends.\n",
    "A third possibility is that the users who are most passionate about data science spend more\n",
    "time on the site (because they find it more interesting) and more actively collect data\n",
    "science friends (because they don’t want to associate with anyone else).\n",
    "One way to feel more confident about causality is by conducting randomized trials. If you\n",
    "can randomly split your users into two groups with similar demographics and give one of\n",
    "the groups a slightly different experience, then you can often feel pretty good that the\n",
    "different experiences are causing the different outcomes.\n",
    "For instance, if you don’t mind being angrily accused of experimenting on your users, you\n",
    "could randomly choose a subset of your users and show them content from only a fraction\n",
    "of their friends. If this subset subsequently spent less time on the site, this would give you\n",
    "some confidence that having more friends causes more time on the site."
   ]
  },
  {
   "cell_type": "code",
   "execution_count": null,
   "id": "0f0478c4",
   "metadata": {},
   "outputs": [],
   "source": []
  }
 ],
 "metadata": {
  "kernelspec": {
   "display_name": "Python 3 (ipykernel)",
   "language": "python",
   "name": "python3"
  },
  "language_info": {
   "codemirror_mode": {
    "name": "ipython",
    "version": 3
   },
   "file_extension": ".py",
   "mimetype": "text/x-python",
   "name": "python",
   "nbconvert_exporter": "python",
   "pygments_lexer": "ipython3",
   "version": "3.11.5"
  }
 },
 "nbformat": 4,
 "nbformat_minor": 5
}
